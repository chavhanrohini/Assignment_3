{
 "cells": [
  {
   "cell_type": "markdown",
   "id": "2e2c6ff7",
   "metadata": {},
   "source": [
    "## 1. Why are functions advantageous to have in your programs?\n",
    "\n",
    "1.\tModularity: Functions allow you to break down your code into smaller, reusable pieces. This makes your code more modular and easier to manage.\n",
    "2.\tReusability: Once you've defined a function, you can use it multiple times throughout your program or in different programs altogether.\n",
    "3.\tAbstraction: Functions can abstract away complex logic, making your code more concise and easier to understand. Instead of dealing with all the details of an operation, you can encapsulate that logic within a function and give it a descriptive name, making your code more self-explanatory.\n",
    "4.\tDebugging: If a specific function is not working as expected, you can focus your debugging efforts on that function, making it easier to identify and fix issues.\n",
    "5.\tCollaboration: When working in a team, functions promote collaboration.\n",
    "6.\tTesting: Functions can be unit-tested, which means you can test individual functions in isolation to ensure they perform as expected.\n",
    "7.\tScalability: As your program grows, functions provide a scalable way to manage complexity.\n",
    "8.\tCode Readability: By reading the function names and their descriptions, others (or your future self) can quickly understand what different parts of the code do without diving into the implementation details.\n",
    "9.\tPerformance Optimization: You can focus your optimization efforts on critical functions without having to analyze and optimize the entire program.\n"
   ]
  },
  {
   "cell_type": "markdown",
   "id": "22c3cc87",
   "metadata": {},
   "source": [
    "## 2. When does the code in a function run: when it's specified or when it's called?\n",
    "\n",
    "The code in a function runs when the function is called, not when it's specified.\n",
    "When you define a function in your program, you are essentially creating a blueprint or a set of instructions for a specific task or piece of code. This code is not executed immediately upon defining the function; it only gets executed when you later call (invoke) that function within your program.\n"
   ]
  },
  {
   "cell_type": "markdown",
   "id": "8c2a7c69",
   "metadata": {},
   "source": [
    "## 3. What statement creates a function?\n",
    "\n",
    "In Python function is created using a specific keyword followed by the function's name and a set of parentheses. The statement that creates a function is typically called a \"function declaration\" or \"function definition.\"\n"
   ]
  },
  {
   "cell_type": "code",
   "execution_count": 1,
   "id": "68857654",
   "metadata": {},
   "outputs": [],
   "source": [
    "#Here's a general syntax for creating a function in Python:\n",
    "def function_name(parameters):\n",
    "    # Function body (code)\n",
    "    # ...\n",
    "    # ...\n",
    "    return result  # Optional, not required in all functions\n"
   ]
  },
  {
   "cell_type": "markdown",
   "id": "c71e8242",
   "metadata": {},
   "source": [
    "# 4. What is the difference between a function and a function call?\n",
    "\n",
    "1.\tFunction: \n",
    "•\tA function is a self-contained block of code that performs a specific task or a set of tasks.\n",
    "\n",
    "•\tIt is typically defined using a function declaration or definition, depending on the programming language.\n",
    "\n",
    "•\tFunctions are like reusable templates or blueprints that specify what code should be executed when the function is invoked (called).\n",
    "\n",
    "•\tExample in Python:\n",
    "def add_numbers(a, b):\n",
    "    return a + b\n",
    "2.\tFunction Call:\n",
    "•\tA function call is an action taken in your code to execute the code within a specific function.\n",
    "\n",
    "•\tIt involves using the function's name, followed by parentheses, and passing any required arguments inside those parentheses.\n",
    "\n",
    "•\tWhen a function is called, the program temporarily jumps to the code within the function, executes it, and then returns to where the function was called.\n",
    "\n",
    "•\tExample in Python:\n",
    "result = add_numbers(5, 3)  # Here, \"add_numbers\" is a function call.\n",
    "\n"
   ]
  },
  {
   "cell_type": "markdown",
   "id": "7354d0eb",
   "metadata": {},
   "source": [
    "## 5. How many global scopes are there in a Python program? How many local scopes?\n",
    "\n",
    "In a Python program, there is one global scope and multiple local scopes.\n",
    "1.\tGlobal Scope:\n",
    "\n",
    "•\tThe global scope is the outermost scope and is accessible from anywhere in the program.\n",
    "\n",
    "•\tVariables defined in the global scope are referred to as global variables and can be accessed and modified from any part of the program.\n",
    "\n",
    "2.\tLocal Scopes:\n",
    "•\tLocal scopes are created within functions, methods, or code blocks.\n",
    "\n",
    "•\tEach time you define a function, a new local scope is created for that function.\n",
    "\n",
    "•\tVariables defined within a local scope are called local variables and are only accessible within that specific scope.\n"
   ]
  },
  {
   "cell_type": "markdown",
   "id": "d3fe3b66",
   "metadata": {},
   "source": [
    "## 6. What happens to variables in a local scope when the function call returns?\n",
    "When a function call in Python returns, the variables in the local scope of that function are destroyed, and their values are no longer accessible. This process is known as \"variable scope\" or \"variable lifetime.\"\n",
    "\n",
    "Here's what happens when a function call returns:\n",
    "\n",
    "1.\tLocal Variables are Destroyed: Any variables defined within the function's local scope are automatically destroyed or deallocated when the function exits. This means that these variables cease to exist, and their memory is released.\n",
    "\n",
    "2.\tValues are Lost: The values stored in those local variables are lost. They are no longer accessible after the function call returns.\n",
    "\n",
    "3.\t Scope Ends: The local scope created by the function call comes to an end, and control returns to the calling code in the global or outer scope.\n"
   ]
  },
  {
   "cell_type": "markdown",
   "id": "d9ad91e6",
   "metadata": {},
   "source": [
    "## 7. What is the concept of a return value? Is it possible to have a return value in an expression?\n",
    "\n",
    "The concept of a \"return value\" is fundamental in programming. A return value is the value that a function provides as output when it is called and executed. It allows functions to pass data or results back to the caller, enabling the caller to use or manipulate that data further.\n",
    "Here's how the concept of a return value works:\n",
    "\n",
    "1.\tFunction with a Return Value:\n",
    "\n",
    "•\tWhen you define a function, you can specify that it returns a value using the `return` statement.\n",
    "\n",
    "•\tThe `return` statement is followed by an expression or a value that you want to send back as the result of the function.\n",
    "\n",
    "•\tWhen the function is called and executed, it evaluates the expression following the `return` statement and sends that value back to the caller.\n"
   ]
  },
  {
   "cell_type": "code",
   "execution_count": 5,
   "id": "a4d8754c",
   "metadata": {},
   "outputs": [
    {
     "name": "stdout",
     "output_type": "stream",
     "text": [
      "The sum is: 8\n"
     ]
    }
   ],
   "source": [
    "def add_numbers(a, b):\n",
    "    result = a + b\n",
    "    return result  # This function returns the sum of \"a\" and \"b\"\n",
    "\n",
    "# Example of using the function and its return value in an expression:\n",
    "sum_result = add_numbers(5, 3)\n",
    "print(\"The sum is:\", sum_result)  # Output: The sum is: 8\n"
   ]
  },
  {
   "cell_type": "markdown",
   "id": "0791a677",
   "metadata": {},
   "source": [
    "2.\tUsing the Return Value:\n",
    "•\tAfter calling a function that returns a value, you can store that value in a variable or use it in an expression.\n",
    "•\tThis allows you to work with the result produced by the function and incorporate it into your program's logic.\n"
   ]
  },
  {
   "cell_type": "code",
   "execution_count": 6,
   "id": "382b806a",
   "metadata": {},
   "outputs": [
    {
     "name": "stdout",
     "output_type": "stream",
     "text": [
      "8\n"
     ]
    }
   ],
   "source": [
    "#Example in Python:\n",
    "sum_result = add_numbers(5, 3)  # Call the function and store the result\n",
    "print(sum_result)  # Prints the value 8, which is the result of the function\n"
   ]
  },
  {
   "cell_type": "markdown",
   "id": "6c9745f6",
   "metadata": {},
   "source": [
    "3.\tReturn Value in Expressions:\n",
    "•\tYes, it is possible to use a return value in an expression. Once you have a value returned from a\n",
    "function, you can immediately use it in calculations or other operations within the same line of code.\n"
   ]
  },
  {
   "cell_type": "code",
   "execution_count": 7,
   "id": "6539a373",
   "metadata": {},
   "outputs": [],
   "source": [
    "#Example in Python:\n",
    "total = add_numbers(10, 20) + 5  # Using the return value in an expression\n"
   ]
  },
  {
   "cell_type": "markdown",
   "id": "a9b8ab46",
   "metadata": {},
   "source": [
    "## 8. If a function does not have a return statement, what is the return value of a call to that function?\n",
    "\n",
    "If a function in Python does not have a `return` statement, the function is said to return a special value called `None`. `None` is a built-in Python object that represents the absence of a value or a null value. It is often used to indicate that a function doesn't explicitly return a meaningful result.\n"
   ]
  },
  {
   "cell_type": "code",
   "execution_count": 8,
   "id": "dc14ac5e",
   "metadata": {},
   "outputs": [
    {
     "name": "stdout",
     "output_type": "stream",
     "text": [
      "Hello, Alice!\n",
      "None\n"
     ]
    }
   ],
   "source": [
    "#Here's an example of a function without a `return` statement:\n",
    "def greet(name):\n",
    "    print(f\"Hello, {name}!\")\n",
    "\n",
    "result = greet(\"Alice\")\n",
    "print(result)  # Output: None\n"
   ]
  },
  {
   "cell_type": "markdown",
   "id": "6767b672",
   "metadata": {},
   "source": [
    "## 9. How do you make a function variable refer to the global variable?\n",
    "\n",
    "In Python, you can make a function variable refer to a global variable by using the `global` keyword inside the function. This keyword tells Python that you want to work with the global variable of the same name within the function's local scope, rather than creating a new local variable with the same name.\n"
   ]
  },
  {
   "cell_type": "code",
   "execution_count": 9,
   "id": "89f5846c",
   "metadata": {},
   "outputs": [
    {
     "name": "stdout",
     "output_type": "stream",
     "text": [
      "10\n"
     ]
    }
   ],
   "source": [
    "#Here's how you can make a function variable refer to a global variable:\n",
    "global_variable = 10  # This is a global variable\n",
    "def my_function():\n",
    "    global global_variable  # Use the \"global\" keyword to access the global variable\n",
    "    print(global_variable)  # This will print the global variable\n",
    "my_function()  # Call the function\n"
   ]
  },
  {
   "cell_type": "markdown",
   "id": "c07ba1be",
   "metadata": {},
   "source": [
    "In this example, `global_variable` is defined in the global scope. Inside the `my_function` function, we use the `global` keyword to indicate that we want to work with the global variable `global_variable`. When the function is called, it prints the value of the global variable."
   ]
  },
  {
   "cell_type": "markdown",
   "id": "60cd9df3",
   "metadata": {},
   "source": [
    "## 10. What is the data type of None?\n",
    "\n",
    "In Python, the data type of the None object is called NoneType. NoneType represents the absence of a value or a null value. It is a distinct data type in Python and is used to indicate that a variable or expression has no meaningful value.\n",
    "\n",
    "## 11. What does the sentence import areallyourpetsnamederic do?\n",
    "\n",
    "The sentence \"import areallyourpetsnamederic\" does not have any built-in or standard meaning in Python. It appears to be a made-up statement that does not correspond to any valid Python module or package.\n",
    "\n",
    "## 12. If you had a bacon() feature in a spam module, what would you call it after importing spam?\n",
    "\n",
    "If you have a `bacon()` function in a module named `spam`, you would call it after importing the `spam` module by using the dot notation. \n"
   ]
  },
  {
   "cell_type": "markdown",
   "id": "f4507657",
   "metadata": {},
   "source": [
    "## 13. What can you do to save a programme from crashing if it encounters an error?\n",
    "\n",
    "To prevent a program from crashing when it encounters an error, you can implement error handling techniques. These techniques allow your program to gracefully handle errors and exceptions without terminating abruptly. Here are some strategies you can use:\n",
    "\n",
    "1.\tUse Try-Except Blocks:\n",
    "•\tWrap the code that you suspect may raise an exception inside a `try` block.\n",
    "•\tUse an `except` block to catch and handle specific exceptions or a generic `Exception` to catch any unexpected errors.\n",
    "\n",
    "2.\tCheck for Preconditions:\n",
    "•\tBefore executing code that might cause an error, check if the preconditions are met.\n",
    "•\tFor example, if you're working with user input, validate the input before performing operations on it.\n",
    "\n",
    "3.\tUse Default Values:\n",
    "•\tWhen accessing dictionaries or lists, use the `get()` method or default values to avoid KeyError or IndexError.\n",
    "\n",
    "4.\tLogging:\n",
    "•\tImplement logging to record errors and exceptions in a log file. This helps you diagnose and troubleshoot issues without crashing the program.\n",
    "\n",
    "5.\tGraceful Termination:\n",
    "•\tIf an error is unrecoverable, ensure that your program terminates gracefully and provides useful error messages or instructions to the user.\n"
   ]
  },
  {
   "cell_type": "markdown",
   "id": "afe9cef3",
   "metadata": {},
   "source": [
    "## 14. What is the purpose of the try clause? What is the purpose of the except clause?\n",
    "\n",
    "In exception handling in Python, the `try` and `except` clauses serve distinct purposes:\n",
    "1.\tPurpose of the `try` Clause:\n",
    "•\tThe `try` clause is used to enclose a block of code that might raise an exception.\n",
    "•\tits purpose is to isolate the code that may generate errors or exceptions.\n",
    "•\tWhen the code within the `try` block executes, the program monitors for any exceptions that might occur.\n",
    "\n",
    "2.\tPurpose of the `except` Clause:\n",
    "•\tThe `except` clause is used to specify how the program should respond when a specific exception occurs within the `try` block.\n",
    "•\tIt defines the code that should execute to handle the exception.\n",
    "•\tYou can have multiple `except` blocks to handle different types of exceptions or a generic `Exception` block to catch any unexpected exceptions.\n"
   ]
  },
  {
   "cell_type": "code",
   "execution_count": null,
   "id": "6f2646ee",
   "metadata": {},
   "outputs": [],
   "source": []
  }
 ],
 "metadata": {
  "kernelspec": {
   "display_name": "Python 3 (ipykernel)",
   "language": "python",
   "name": "python3"
  },
  "language_info": {
   "codemirror_mode": {
    "name": "ipython",
    "version": 3
   },
   "file_extension": ".py",
   "mimetype": "text/x-python",
   "name": "python",
   "nbconvert_exporter": "python",
   "pygments_lexer": "ipython3",
   "version": "3.9.12"
  }
 },
 "nbformat": 4,
 "nbformat_minor": 5
}
